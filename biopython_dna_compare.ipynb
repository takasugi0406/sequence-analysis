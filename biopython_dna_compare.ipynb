{
 "cells": [
  {
   "cell_type": "code",
   "execution_count": 1,
   "id": "bb0f0492",
   "metadata": {},
   "outputs": [
    {
     "data": {
      "text/plain": [
       "[SeqRecord(seq=Seq('ATGGAGGCGATGCTTCCGCTCTTTGAACCCAAAGGCCGGGTCCTCCTGGTGGAC...TAG'), id='NC_006461.1:996840-999344', name='NC_006461.1:996840-999344', description='NC_006461.1:996840-999344 Thermus thermophilus HB8 chromosome 1, complete sequence', dbxrefs=[]),\n",
       " SeqRecord(seq=Seq('ATGATGTTGAAAAACAAGCTCGTCTTAATTGACGGCAACAGCGTGGCGTACCGC...TAA'), id='NZ_JALS01000016.1:c4831-2195', name='NZ_JALS01000016.1:c4831-2195', description='NZ_JALS01000016.1:c4831-2195 Geobacillus stearothermophilus ATCC 7953 GBScontig0000008_4, whole genome shotgun sequence', dbxrefs=[]),\n",
       " SeqRecord(seq=Seq('ATGGATAAGAAAAAATTATTATTGATTGATGGGTCTTCTGTAGCTTTTCGGGCG...TAA'), id='NZ_CP020549.1:63072-65705', name='NZ_CP020549.1:63072-65705', description='NZ_CP020549.1:63072-65705 polA [organism=Streptococcus pneumoniae] [GeneID=66805238] [chromosome=]', dbxrefs=[]),\n",
       " SeqRecord(seq=Seq('ATGGTTCAGATCCCCCAAAATCCACTTATCCTTGTAGATGGTTCATCTTATCTT...TAA'), id='NC_000913.3:4046966-4049752', name='NC_000913.3:4046966-4049752', description='NC_000913.3:4046966-4049752 polA [organism=Escherichia coli str. K-12 substr. MG1655] [GeneID=948356] [chromosome=]', dbxrefs=[]),\n",
       " SeqRecord(seq=Seq('ATGAAAAAAACAATCACTATTATTGATACTTTTGGCTTTTTATTTAGAAGTTAT...TAA'), id='NC_017187.1:c1213115-1210425', name='NC_017187.1:c1213115-1210425', description='NC_017187.1:c1213115-1210425 polA [organism=Aliarcobacter butzleri ED-1] [GeneID=56463489] [chromosome=]', dbxrefs=[]),\n",
       " SeqRecord(seq=Seq('ATGCCAACCGTCGCTAAAAACCCACTTGTGCTTGTGGATGGATCTTCTTATTTA...TAA'), id='NC_016901.1:5237259-5240024', name='NC_016901.1:5237259-5240024', description='NC_016901.1:5237259-5240024 polA [organism=Shewanella baltica OS678] [GeneID=11774436] [chromosome=]', dbxrefs=[])]"
      ]
     },
     "execution_count": 1,
     "metadata": {},
     "output_type": "execute_result"
    }
   ],
   "source": [
    "import Bio.Seq\n",
    "from Bio import SeqIO\n",
    "from Bio.Seq import Seq\n",
    "from Bio.SeqUtils import gc_fraction\n",
    "\n",
    "gene_names = ['Thermus thermophilus', 'Geobacillus stearothermophilus', 'Streptococcus pneumoniae', 'Escherichia coli', 'Aliarcobacter butzleri', 'Shewanella baltica']\n",
    "\n",
    "DNA_1 = SeqIO.read('./NC_006461_1.fna', \"fasta\") # polA DNA polymerase I [ Thermus thermophilus HB8 ]\n",
    "DNA_2 = SeqIO.read('./NZ_JALS01000016_1.fna', \"fasta\") # polA DNA Polymerase I[Geobacillus stearothermophilus]\n",
    "DNA_3 = SeqIO.read('./NZ_CP020549_1.fna', \"fasta\") # polA DNA polymerase I [ Streptococcus pneumoniae ]\n",
    "DNA_4 = SeqIO.read('./NC_000913_3.fna', \"fasta\") # polA DNA polymerase I [ Escherichia coli str. K-12 substr. MG1655 ]\n",
    "DNA_5 = SeqIO.read('./NC_017187_1.fna', \"fasta\") # polA DNA polymerase I [ Aliarcobacter butzleri ED-1 ]\n",
    "DNA_6 = SeqIO.read('./NC_016901_1.fna', \"fasta\") # polA DNA polymerase I [ Shewanella baltica OS678 ]\n",
    "DNAs = [DNA_1, DNA_2, DNA_3, DNA_4, DNA_5, DNA_6]\n",
    "DNAs"
   ]
  },
  {
   "cell_type": "code",
   "execution_count": 2,
   "id": "e3dd045d",
   "metadata": {},
   "outputs": [
    {
     "data": {
      "text/plain": [
       "[67.86427145708582,\n",
       " 55.2901023890785,\n",
       " 44.00151860288535,\n",
       " 51.955507714388226,\n",
       " 25.863991081382387,\n",
       " 49.168474331164134]"
      ]
     },
     "execution_count": 2,
     "metadata": {},
     "output_type": "execute_result"
    }
   ],
   "source": [
    "gc_contents = []\n",
    "mRNAs = []\n",
    "AAs = []\n",
    "\n",
    "\n",
    "for DNA in DNAs:\n",
    "    gc_contents.append(gc_fraction(DNA)*100)\n",
    "    mRNA = DNA.seq.transcribe()\n",
    "    AA = mRNA.translate()\n",
    "    AAs.append(AA)\n",
    "\n",
    "gc_contents"
   ]
  },
  {
   "cell_type": "code",
   "execution_count": 3,
   "id": "41b339a5",
   "metadata": {},
   "outputs": [
    {
     "name": "stdout",
     "output_type": "stream",
     "text": [
      "+-----+--------------------------------+--------+------------+------------------------------+\n",
      "| no. | Species                        | length | gc-content | Sequence Length(amino acids) |\n",
      "+-----+--------------------------------+--------+------------+------------------------------+\n",
      "|     | *Thermophilic*                 |        |   61.58    |                              |\n",
      "+-----+--------------------------------+--------+------------+------------------------------+\n",
      "|  1  | Thermus thermophilus           |  2505  |   67.86    |             835              |\n",
      "+-----+--------------------------------+--------+------------+------------------------------+\n",
      "|  2  | Geobacillus stearothermophilus |  2637  |   55.29    |             879              |\n",
      "+-----+--------------------------------+--------+------------+------------------------------+\n",
      "|     | *Mesophilic*                   |        |   47.98    |                              |\n",
      "+-----+--------------------------------+--------+------------+------------------------------+\n",
      "|  3  | Streptococcus pneumoniae       |  2634  |    44.0    |             878              |\n",
      "+-----+--------------------------------+--------+------------+------------------------------+\n",
      "|  4  | Escherichia coli               |  2787  |   51.96    |             929              |\n",
      "+-----+--------------------------------+--------+------------+------------------------------+\n",
      "|     | *Psychrophilic*                |        |   37.52    |                              |\n",
      "+-----+--------------------------------+--------+------------+------------------------------+\n",
      "|  1  | Aliarcobacter butzleri         |  2691  |   25.86    |             897              |\n",
      "+-----+--------------------------------+--------+------------+------------------------------+\n",
      "|  1  | Shewanella baltica             |  2766  |   49.17    |             922              |\n",
      "+-----+--------------------------------+--------+------------+------------------------------+\n"
     ]
    }
   ],
   "source": [
    "from prettytable import PrettyTable\n",
    "from prettytable import ALL\n",
    "\n",
    "table = PrettyTable()\n",
    "\n",
    "# Đặt tên cho các cột\n",
    "table.field_names = [\"no.\", \"Species\", \"length\", \"gc-content\", \"Sequence Length(amino acids)\"]\n",
    "table.align[\"Species\"] = \"l\"\n",
    "\n",
    "table.hrules = ALL\n",
    "\n",
    "table.add_row([\"\", \"*Thermophilic*\", \"\", round((gc_contents[0] + gc_contents[1])/2, 2), \"\"])\n",
    "table.add_row([1, gene_names[0], len(DNA_1), round(gc_contents[0], 2), len(AAs[0])])\n",
    "table.add_row([2, gene_names[1], len(DNA_2), round(gc_contents[1], 2), len(AAs[1])])\n",
    "\n",
    "table.add_row([\"\", \"*Mesophilic*\", \"\", round((gc_contents[2] + gc_contents[3])/2, 2), \"\"])\n",
    "table.add_row([3, gene_names[2], len(DNA_3), round(gc_contents[2], 2), len(AAs[2])])\n",
    "table.add_row([4, gene_names[3], len(DNA_4), round(gc_contents[3], 2), len(AAs[3])])\n",
    "\n",
    "table.add_row([\"\", \"*Psychrophilic*\", \"\", round((gc_contents[4] + gc_contents[5])/2, 2), \"\"])\n",
    "table.add_row([1, gene_names[4], len(DNA_5), round(gc_contents[4], 2), len(AAs[4])])\n",
    "table.add_row([1, gene_names[5], len(DNA_6), round(gc_contents[5], 2), len(AAs[5])])\n",
    "\n",
    "print(table)"
   ]
  },
  {
   "cell_type": "code",
   "execution_count": 4,
   "id": "2484048e",
   "metadata": {},
   "outputs": [
    {
     "data": {
      "image/png": "[encoded data removed]",
      "text/plain": [
       "<Figure size 640x480 with 1 Axes>"
      ]
     },
     "metadata": {},
     "output_type": "display_data"
    }
   ],
   "source": [
    "import matplotlib.pyplot as plt\n",
    "\n",
    "plt.bar(gene_names, gc_contents)\n",
    "\n",
    "plt.xlabel(\"Gene Names\")\n",
    "plt.ylabel(\"GC-content (%)\")\n",
    "plt.xticks(range(len(gene_names)), gene_names, rotation='vertical')\n",
    "plt.title(\"GC-content of Genes\")\n",
    "\n",
    "plt.show()"
   ]
  },
  {
   "cell_type": "code",
   "execution_count": 5,
   "id": "262b10e5",
   "metadata": {},
   "outputs": [
    {
     "data": {
      "text/html": [
       "<div>\n",
       "<style scoped>\n",
       "    .dataframe tbody tr th:only-of-type {\n",
       "        vertical-align: middle;\n",
       "    }\n",
       "\n",
       "    .dataframe tbody tr th {\n",
       "        vertical-align: top;\n",
       "    }\n",
       "\n",
       "    .dataframe thead th {\n",
       "        text-align: right;\n",
       "    }\n",
       "</style>\n",
       "<table border=\"1\" class=\"dataframe\">\n",
       "  <thead>\n",
       "    <tr style=\"text-align: right;\">\n",
       "      <th></th>\n",
       "      <th>Content (%)</th>\n",
       "      <th>Species</th>\n",
       "      <th>Amino Acid</th>\n",
       "    </tr>\n",
       "  </thead>\n",
       "  <tbody>\n",
       "    <tr>\n",
       "      <th>0</th>\n",
       "      <td>10.78</td>\n",
       "      <td>Thermus thermophilus</td>\n",
       "      <td>Ala</td>\n",
       "    </tr>\n",
       "    <tr>\n",
       "      <th>1</th>\n",
       "      <td>0.12</td>\n",
       "      <td>Thermus thermophilus</td>\n",
       "      <td>Cys</td>\n",
       "    </tr>\n",
       "    <tr>\n",
       "      <th>2</th>\n",
       "      <td>4.79</td>\n",
       "      <td>Thermus thermophilus</td>\n",
       "      <td>Asp</td>\n",
       "    </tr>\n",
       "    <tr>\n",
       "      <th>3</th>\n",
       "      <td>10.18</td>\n",
       "      <td>Thermus thermophilus</td>\n",
       "      <td>Glu</td>\n",
       "    </tr>\n",
       "    <tr>\n",
       "      <th>4</th>\n",
       "      <td>3.47</td>\n",
       "      <td>Thermus thermophilus</td>\n",
       "      <td>Phe</td>\n",
       "    </tr>\n",
       "    <tr>\n",
       "      <th>...</th>\n",
       "      <td>...</td>\n",
       "      <td>...</td>\n",
       "      <td>...</td>\n",
       "    </tr>\n",
       "    <tr>\n",
       "      <th>115</th>\n",
       "      <td>4.34</td>\n",
       "      <td>Shewanella baltica</td>\n",
       "      <td>Ser</td>\n",
       "    </tr>\n",
       "    <tr>\n",
       "      <th>116</th>\n",
       "      <td>6.29</td>\n",
       "      <td>Shewanella baltica</td>\n",
       "      <td>Thr</td>\n",
       "    </tr>\n",
       "    <tr>\n",
       "      <th>117</th>\n",
       "      <td>5.31</td>\n",
       "      <td>Shewanella baltica</td>\n",
       "      <td>Val</td>\n",
       "    </tr>\n",
       "    <tr>\n",
       "      <th>118</th>\n",
       "      <td>0.65</td>\n",
       "      <td>Shewanella baltica</td>\n",
       "      <td>Trp</td>\n",
       "    </tr>\n",
       "    <tr>\n",
       "      <th>119</th>\n",
       "      <td>3.25</td>\n",
       "      <td>Shewanella baltica</td>\n",
       "      <td>Tyr</td>\n",
       "    </tr>\n",
       "  </tbody>\n",
       "</table>\n",
       "<p>120 rows × 3 columns</p>\n",
       "</div>"
      ],
      "text/plain": [
       "     Content (%)               Species Amino Acid\n",
       "0          10.78  Thermus thermophilus        Ala\n",
       "1           0.12  Thermus thermophilus        Cys\n",
       "2           4.79  Thermus thermophilus        Asp\n",
       "3          10.18  Thermus thermophilus        Glu\n",
       "4           3.47  Thermus thermophilus        Phe\n",
       "..           ...                   ...        ...\n",
       "115         4.34    Shewanella baltica        Ser\n",
       "116         6.29    Shewanella baltica        Thr\n",
       "117         5.31    Shewanella baltica        Val\n",
       "118         0.65    Shewanella baltica        Trp\n",
       "119         3.25    Shewanella baltica        Tyr\n",
       "\n",
       "[120 rows x 3 columns]"
      ]
     },
     "execution_count": 5,
     "metadata": {},
     "output_type": "execute_result"
    }
   ],
   "source": [
    "import pandas as pd\n",
    "from Bio.SeqUtils import ProtParam\n",
    "from Bio.SeqUtils import IUPACData\n",
    "\n",
    "list_ = []\n",
    "aa_alphabets = IUPACData.protein_letters\n",
    "for a in range(6):\n",
    "    X = ProtParam.ProteinAnalysis(AAs[a])\n",
    "    for i in range(len(aa_alphabets)):\n",
    "        content = round(X.get_amino_acids_percent()[aa_alphabets[i]] * 100, 2)\n",
    "        aa = [content, gene_names[a], IUPACData.protein_letters_1to3[aa_alphabets[i]]]\n",
    "        list_.append(aa)\n",
    "        \n",
    "list_\n",
    "df = pd.DataFrame(list_, columns=['Content (%)', 'Species', 'Amino Acid'])\n",
    "df"
   ]
  },
  {
   "cell_type": "code",
   "execution_count": 6,
   "id": "73f3340b",
   "metadata": {},
   "outputs": [
    {
     "data": {
      "text/html": [
       "\n",
       "<style>\n",
       "  #altair-viz-661650e7584448e281d7d71381576cc9.vega-embed {\n",
       "    width: 100%;\n",
       "    display: flex;\n",
       "  }\n",
       "\n",
       "  #altair-viz-661650e7584448e281d7d71381576cc9.vega-embed details,\n",
       "  #altair-viz-661650e7584448e281d7d71381576cc9.vega-embed details summary {\n",
       "    position: relative;\n",
       "  }\n",
       "</style>\n",
       "<div id=\"altair-viz-661650e7584448e281d7d71381576cc9\"></div>\n",
       "<script type=\"text/javascript\">\n",
       "  var VEGA_DEBUG = (typeof VEGA_DEBUG == \"undefined\") ? {} : VEGA_DEBUG;\n",
       "  (function(spec, embedOpt){\n",
       "    let outputDiv = document.currentScript.previousElementSibling;\n",
       "    if (outputDiv.id !== \"altair-viz-661650e7584448e281d7d71381576cc9\") {\n",
       "      outputDiv = document.getElementById(\"altair-viz-661650e7584448e281d7d71381576cc9\");\n",
       "    }\n",
       "    const paths = {\n",
       "      \"vega\": \"https://cdn.jsdelivr.net/npm/vega@5?noext\",\n",
       "      \"vega-lib\": \"https://cdn.jsdelivr.net/npm/vega-lib?noext\",\n",
       "      \"vega-lite\": \"https://cdn.jsdelivr.net/npm/vega-lite@5.16.3?noext\",\n",
       "      \"vega-embed\": \"https://cdn.jsdelivr.net/npm/vega-embed@6?noext\",\n",
       "    };\n",
       "\n",
       "    function maybeLoadScript(lib, version) {\n",
       "      var key = `${lib.replace(\"-\", \"\")}_version`;\n",
       "      return (VEGA_DEBUG[key] == version) ?\n",
       "        Promise.resolve(paths[lib]) :\n",
       "        new Promise(function(resolve, reject) {\n",
       "          var s = document.createElement('script');\n",
       "          document.getElementsByTagName(\"head\")[0].appendChild(s);\n",
       "          s.async = true;\n",
       "          s.onload = () => {\n",
       "            VEGA_DEBUG[key] = version;\n",
       "            return resolve(paths[lib]);\n",
       "          };\n",
       "          s.onerror = () => reject(`Error loading script: ${paths[lib]}`);\n",
       "          s.src = paths[lib];\n",
       "        });\n",
       "    }\n",
       "\n",
       "    function showError(err) {\n",
       "      outputDiv.innerHTML = `<div class=\"error\" style=\"color:red;\">${err}</div>`;\n",
       "      throw err;\n",
       "    }\n",
       "\n",
       "    function displayChart(vegaEmbed) {\n",
       "      vegaEmbed(outputDiv, spec, embedOpt)\n",
       "        .catch(err => showError(`Javascript Error: ${err.message}<br>This usually means there's a typo in your chart specification. See the javascript console for the full traceback.`));\n",
       "    }\n",
       "\n",
       "    if(typeof define === \"function\" && define.amd) {\n",
       "      requirejs.config({paths});\n",
       "      require([\"vega-embed\"], displayChart, err => showError(`Error loading script: ${err.message}`));\n",
       "    } else {\n",
       "      maybeLoadScript(\"vega\", \"5\")\n",
       "        .then(() => maybeLoadScript(\"vega-lite\", \"5.16.3\"))\n",
       "        .then(() => maybeLoadScript(\"vega-embed\", \"6\"))\n",
       "        .catch(showError)\n",
       "        .then(() => displayChart(vegaEmbed));\n",
       "    }\n",
       "  })({\"config\": {\"view\": {\"continuousWidth\": 300, \"continuousHeight\": 300}}, \"data\": {\"name\": \"data-5cdb14623fce7a5ac17ec39513c955b7\"}, \"mark\": {\"type\": \"bar\"}, \"encoding\": {\"color\": {\"field\": \"Species\", \"type\": \"nominal\"}, \"row\": {\"field\": \"Amino Acid\", \"type\": \"nominal\"}, \"x\": {\"field\": \"Content (%)\", \"type\": \"quantitative\"}, \"y\": {\"axis\": {\"grid\": true}, \"field\": \"Species\", \"type\": \"nominal\"}}, \"$schema\": \"https://vega.github.io/schema/vega-lite/v5.16.3.json\", \"datasets\": {\"data-5cdb14623fce7a5ac17ec39513c955b7\": [{\"Content (%)\": 10.78, \"Species\": \"Thermus thermophilus\", \"Amino Acid\": \"Ala\"}, {\"Content (%)\": 0.12, \"Species\": \"Thermus thermophilus\", \"Amino Acid\": \"Cys\"}, {\"Content (%)\": 4.79, \"Species\": \"Thermus thermophilus\", \"Amino Acid\": \"Asp\"}, {\"Content (%)\": 10.18, \"Species\": \"Thermus thermophilus\", \"Amino Acid\": \"Glu\"}, {\"Content (%)\": 3.47, \"Species\": \"Thermus thermophilus\", \"Amino Acid\": \"Phe\"}, {\"Content (%)\": 6.35, \"Species\": \"Thermus thermophilus\", \"Amino Acid\": \"Gly\"}, {\"Content (%)\": 2.51, \"Species\": \"Thermus thermophilus\", \"Amino Acid\": \"His\"}, {\"Content (%)\": 1.92, \"Species\": \"Thermus thermophilus\", \"Amino Acid\": \"Ile\"}, {\"Content (%)\": 5.39, \"Species\": \"Thermus thermophilus\", \"Amino Acid\": \"Lys\"}, {\"Content (%)\": 15.21, \"Species\": \"Thermus thermophilus\", \"Amino Acid\": \"Leu\"}, {\"Content (%)\": 1.92, \"Species\": \"Thermus thermophilus\", \"Amino Acid\": \"Met\"}, {\"Content (%)\": 1.92, \"Species\": \"Thermus thermophilus\", \"Amino Acid\": \"Asn\"}, {\"Content (%)\": 5.99, \"Species\": \"Thermus thermophilus\", \"Amino Acid\": \"Pro\"}, {\"Content (%)\": 2.4, \"Species\": \"Thermus thermophilus\", \"Amino Acid\": \"Gln\"}, {\"Content (%)\": 8.5, \"Species\": \"Thermus thermophilus\", \"Amino Acid\": \"Arg\"}, {\"Content (%)\": 3.59, \"Species\": \"Thermus thermophilus\", \"Amino Acid\": \"Ser\"}, {\"Content (%)\": 3.71, \"Species\": \"Thermus thermophilus\", \"Amino Acid\": \"Thr\"}, {\"Content (%)\": 7.19, \"Species\": \"Thermus thermophilus\", \"Amino Acid\": \"Val\"}, {\"Content (%)\": 1.44, \"Species\": \"Thermus thermophilus\", \"Amino Acid\": \"Trp\"}, {\"Content (%)\": 2.51, \"Species\": \"Thermus thermophilus\", \"Amino Acid\": \"Tyr\"}, {\"Content (%)\": 10.01, \"Species\": \"Geobacillus stearothermophilus\", \"Amino Acid\": \"Ala\"}, {\"Content (%)\": 0.23, \"Species\": \"Geobacillus stearothermophilus\", \"Amino Acid\": \"Cys\"}, {\"Content (%)\": 6.14, \"Species\": \"Geobacillus stearothermophilus\", \"Amino Acid\": \"Asp\"}, {\"Content (%)\": 8.65, \"Species\": \"Geobacillus stearothermophilus\", \"Amino Acid\": \"Glu\"}, {\"Content (%)\": 3.64, \"Species\": \"Geobacillus stearothermophilus\", \"Amino Acid\": \"Phe\"}, {\"Content (%)\": 5.69, \"Species\": \"Geobacillus stearothermophilus\", \"Amino Acid\": \"Gly\"}, {\"Content (%)\": 2.39, \"Species\": \"Geobacillus stearothermophilus\", \"Amino Acid\": \"His\"}, {\"Content (%)\": 5.69, \"Species\": \"Geobacillus stearothermophilus\", \"Amino Acid\": \"Ile\"}, {\"Content (%)\": 6.71, \"Species\": \"Geobacillus stearothermophilus\", \"Amino Acid\": \"Lys\"}, {\"Content (%)\": 11.49, \"Species\": \"Geobacillus stearothermophilus\", \"Amino Acid\": \"Leu\"}, {\"Content (%)\": 2.39, \"Species\": \"Geobacillus stearothermophilus\", \"Amino Acid\": \"Met\"}, {\"Content (%)\": 2.96, \"Species\": \"Geobacillus stearothermophilus\", \"Amino Acid\": \"Asn\"}, {\"Content (%)\": 4.1, \"Species\": \"Geobacillus stearothermophilus\", \"Amino Acid\": \"Pro\"}, {\"Content (%)\": 4.55, \"Species\": \"Geobacillus stearothermophilus\", \"Amino Acid\": \"Gln\"}, {\"Content (%)\": 5.8, \"Species\": \"Geobacillus stearothermophilus\", \"Amino Acid\": \"Arg\"}, {\"Content (%)\": 3.07, \"Species\": \"Geobacillus stearothermophilus\", \"Amino Acid\": \"Ser\"}, {\"Content (%)\": 5.46, \"Species\": \"Geobacillus stearothermophilus\", \"Amino Acid\": \"Thr\"}, {\"Content (%)\": 7.17, \"Species\": \"Geobacillus stearothermophilus\", \"Amino Acid\": \"Val\"}, {\"Content (%)\": 0.57, \"Species\": \"Geobacillus stearothermophilus\", \"Amino Acid\": \"Trp\"}, {\"Content (%)\": 3.19, \"Species\": \"Geobacillus stearothermophilus\", \"Amino Acid\": \"Tyr\"}, {\"Content (%)\": 7.63, \"Species\": \"Streptococcus pneumoniae\", \"Amino Acid\": \"Ala\"}, {\"Content (%)\": 0.23, \"Species\": \"Streptococcus pneumoniae\", \"Amino Acid\": \"Cys\"}, {\"Content (%)\": 7.18, \"Species\": \"Streptococcus pneumoniae\", \"Amino Acid\": \"Asp\"}, {\"Content (%)\": 9.0, \"Species\": \"Streptococcus pneumoniae\", \"Amino Acid\": \"Glu\"}, {\"Content (%)\": 4.78, \"Species\": \"Streptococcus pneumoniae\", \"Amino Acid\": \"Phe\"}, {\"Content (%)\": 5.92, \"Species\": \"Streptococcus pneumoniae\", \"Amino Acid\": \"Gly\"}, {\"Content (%)\": 1.71, \"Species\": \"Streptococcus pneumoniae\", \"Amino Acid\": \"His\"}, {\"Content (%)\": 7.06, \"Species\": \"Streptococcus pneumoniae\", \"Amino Acid\": \"Ile\"}, {\"Content (%)\": 7.97, \"Species\": \"Streptococcus pneumoniae\", \"Amino Acid\": \"Lys\"}, {\"Content (%)\": 11.85, \"Species\": \"Streptococcus pneumoniae\", \"Amino Acid\": \"Leu\"}, {\"Content (%)\": 2.39, \"Species\": \"Streptococcus pneumoniae\", \"Amino Acid\": \"Met\"}, {\"Content (%)\": 3.19, \"Species\": \"Streptococcus pneumoniae\", \"Amino Acid\": \"Asn\"}, {\"Content (%)\": 2.96, \"Species\": \"Streptococcus pneumoniae\", \"Amino Acid\": \"Pro\"}, {\"Content (%)\": 4.21, \"Species\": \"Streptococcus pneumoniae\", \"Amino Acid\": \"Gln\"}, {\"Content (%)\": 3.87, \"Species\": \"Streptococcus pneumoniae\", \"Amino Acid\": \"Arg\"}, {\"Content (%)\": 4.67, \"Species\": \"Streptococcus pneumoniae\", \"Amino Acid\": \"Ser\"}, {\"Content (%)\": 5.13, \"Species\": \"Streptococcus pneumoniae\", \"Amino Acid\": \"Thr\"}, {\"Content (%)\": 6.04, \"Species\": \"Streptococcus pneumoniae\", \"Amino Acid\": \"Val\"}, {\"Content (%)\": 0.46, \"Species\": \"Streptococcus pneumoniae\", \"Amino Acid\": \"Trp\"}, {\"Content (%)\": 3.64, \"Species\": \"Streptococcus pneumoniae\", \"Amino Acid\": \"Tyr\"}, {\"Content (%)\": 10.66, \"Species\": \"Escherichia coli\", \"Amino Acid\": \"Ala\"}, {\"Content (%)\": 0.22, \"Species\": \"Escherichia coli\", \"Amino Acid\": \"Cys\"}, {\"Content (%)\": 5.49, \"Species\": \"Escherichia coli\", \"Amino Acid\": \"Asp\"}, {\"Content (%)\": 8.61, \"Species\": \"Escherichia coli\", \"Amino Acid\": \"Glu\"}, {\"Content (%)\": 2.58, \"Species\": \"Escherichia coli\", \"Amino Acid\": \"Phe\"}, {\"Content (%)\": 6.14, \"Species\": \"Escherichia coli\", \"Amino Acid\": \"Gly\"}, {\"Content (%)\": 2.26, \"Species\": \"Escherichia coli\", \"Amino Acid\": \"His\"}, {\"Content (%)\": 5.71, \"Species\": \"Escherichia coli\", \"Amino Acid\": \"Ile\"}, {\"Content (%)\": 6.35, \"Species\": \"Escherichia coli\", \"Amino Acid\": \"Lys\"}, {\"Content (%)\": 11.41, \"Species\": \"Escherichia coli\", \"Amino Acid\": \"Leu\"}, {\"Content (%)\": 2.69, \"Species\": \"Escherichia coli\", \"Amino Acid\": \"Met\"}, {\"Content (%)\": 3.44, \"Species\": \"Escherichia coli\", \"Amino Acid\": \"Asn\"}, {\"Content (%)\": 5.38, \"Species\": \"Escherichia coli\", \"Amino Acid\": \"Pro\"}, {\"Content (%)\": 4.2, \"Species\": \"Escherichia coli\", \"Amino Acid\": \"Gln\"}, {\"Content (%)\": 4.84, \"Species\": \"Escherichia coli\", \"Amino Acid\": \"Arg\"}, {\"Content (%)\": 4.2, \"Species\": \"Escherichia coli\", \"Amino Acid\": \"Ser\"}, {\"Content (%)\": 5.38, \"Species\": \"Escherichia coli\", \"Amino Acid\": \"Thr\"}, {\"Content (%)\": 6.14, \"Species\": \"Escherichia coli\", \"Amino Acid\": \"Val\"}, {\"Content (%)\": 0.75, \"Species\": \"Escherichia coli\", \"Amino Acid\": \"Trp\"}, {\"Content (%)\": 3.44, \"Species\": \"Escherichia coli\", \"Amino Acid\": \"Tyr\"}, {\"Content (%)\": 6.47, \"Species\": \"Aliarcobacter butzleri\", \"Amino Acid\": \"Ala\"}, {\"Content (%)\": 0.33, \"Species\": \"Aliarcobacter butzleri\", \"Amino Acid\": \"Cys\"}, {\"Content (%)\": 6.35, \"Species\": \"Aliarcobacter butzleri\", \"Amino Acid\": \"Asp\"}, {\"Content (%)\": 8.14, \"Species\": \"Aliarcobacter butzleri\", \"Amino Acid\": \"Glu\"}, {\"Content (%)\": 5.02, \"Species\": \"Aliarcobacter butzleri\", \"Amino Acid\": \"Phe\"}, {\"Content (%)\": 4.91, \"Species\": \"Aliarcobacter butzleri\", \"Amino Acid\": \"Gly\"}, {\"Content (%)\": 1.23, \"Species\": \"Aliarcobacter butzleri\", \"Amino Acid\": \"His\"}, {\"Content (%)\": 9.03, \"Species\": \"Aliarcobacter butzleri\", \"Amino Acid\": \"Ile\"}, {\"Content (%)\": 9.81, \"Species\": \"Aliarcobacter butzleri\", \"Amino Acid\": \"Lys\"}, {\"Content (%)\": 11.15, \"Species\": \"Aliarcobacter butzleri\", \"Amino Acid\": \"Leu\"}, {\"Content (%)\": 1.9, \"Species\": \"Aliarcobacter butzleri\", \"Amino Acid\": \"Met\"}, {\"Content (%)\": 6.8, \"Species\": \"Aliarcobacter butzleri\", \"Amino Acid\": \"Asn\"}, {\"Content (%)\": 2.56, \"Species\": \"Aliarcobacter butzleri\", \"Amino Acid\": \"Pro\"}, {\"Content (%)\": 3.34, \"Species\": \"Aliarcobacter butzleri\", \"Amino Acid\": \"Gln\"}, {\"Content (%)\": 2.56, \"Species\": \"Aliarcobacter butzleri\", \"Amino Acid\": \"Arg\"}, {\"Content (%)\": 5.46, \"Species\": \"Aliarcobacter butzleri\", \"Amino Acid\": \"Ser\"}, {\"Content (%)\": 4.79, \"Species\": \"Aliarcobacter butzleri\", \"Amino Acid\": \"Thr\"}, {\"Content (%)\": 4.79, \"Species\": \"Aliarcobacter butzleri\", \"Amino Acid\": \"Val\"}, {\"Content (%)\": 0.33, \"Species\": \"Aliarcobacter butzleri\", \"Amino Acid\": \"Trp\"}, {\"Content (%)\": 4.91, \"Species\": \"Aliarcobacter butzleri\", \"Amino Acid\": \"Tyr\"}, {\"Content (%)\": 11.71, \"Species\": \"Shewanella baltica\", \"Amino Acid\": \"Ala\"}, {\"Content (%)\": 0.33, \"Species\": \"Shewanella baltica\", \"Amino Acid\": \"Cys\"}, {\"Content (%)\": 6.62, \"Species\": \"Shewanella baltica\", \"Amino Acid\": \"Asp\"}, {\"Content (%)\": 7.92, \"Species\": \"Shewanella baltica\", \"Amino Acid\": \"Glu\"}, {\"Content (%)\": 2.6, \"Species\": \"Shewanella baltica\", \"Amino Acid\": \"Phe\"}, {\"Content (%)\": 6.07, \"Species\": \"Shewanella baltica\", \"Amino Acid\": \"Gly\"}, {\"Content (%)\": 1.84, \"Species\": \"Shewanella baltica\", \"Amino Acid\": \"His\"}, {\"Content (%)\": 6.83, \"Species\": \"Shewanella baltica\", \"Amino Acid\": \"Ile\"}, {\"Content (%)\": 6.18, \"Species\": \"Shewanella baltica\", \"Amino Acid\": \"Lys\"}, {\"Content (%)\": 11.06, \"Species\": \"Shewanella baltica\", \"Amino Acid\": \"Leu\"}, {\"Content (%)\": 3.04, \"Species\": \"Shewanella baltica\", \"Amino Acid\": \"Met\"}, {\"Content (%)\": 3.15, \"Species\": \"Shewanella baltica\", \"Amino Acid\": \"Asn\"}, {\"Content (%)\": 4.23, \"Species\": \"Shewanella baltica\", \"Amino Acid\": \"Pro\"}, {\"Content (%)\": 3.69, \"Species\": \"Shewanella baltica\", \"Amino Acid\": \"Gln\"}, {\"Content (%)\": 4.77, \"Species\": \"Shewanella baltica\", \"Amino Acid\": \"Arg\"}, {\"Content (%)\": 4.34, \"Species\": \"Shewanella baltica\", \"Amino Acid\": \"Ser\"}, {\"Content (%)\": 6.29, \"Species\": \"Shewanella baltica\", \"Amino Acid\": \"Thr\"}, {\"Content (%)\": 5.31, \"Species\": \"Shewanella baltica\", \"Amino Acid\": \"Val\"}, {\"Content (%)\": 0.65, \"Species\": \"Shewanella baltica\", \"Amino Acid\": \"Trp\"}, {\"Content (%)\": 3.25, \"Species\": \"Shewanella baltica\", \"Amino Acid\": \"Tyr\"}]}}, {\"mode\": \"vega-lite\"});\n",
       "</script>"
      ],
      "text/plain": [
       "alt.Chart(...)"
      ]
     },
     "execution_count": 6,
     "metadata": {},
     "output_type": "execute_result"
    }
   ],
   "source": [
    "import altair as alt\n",
    "from altair import datum\n",
    "\n",
    "gp_chart = alt.Chart(df).mark_bar().encode(\n",
    "    alt.X('Content (%)'),\n",
    "    alt.Y('Species', axis=alt.Axis(grid=True)), \n",
    "    alt.Color('Species'),\n",
    "    alt.Row('Amino Acid')\n",
    ")\n",
    "\n",
    "gp_chart"
   ]
  },
  {
   "cell_type": "code",
   "execution_count": null,
   "id": "7ec2b9f0",
   "metadata": {},
   "outputs": [],
   "source": []
  }
 ],
 "metadata": {
  "kernelspec": {
   "display_name": "Python 3 (ipykernel)",
   "language": "python",
   "name": "python3"
  },
  "language_info": {
   "codemirror_mode": {
    "name": "ipython",
    "version": 3
   },
   "file_extension": ".py",
   "mimetype": "text/x-python",
   "name": "python",
   "nbconvert_exporter": "python",
   "pygments_lexer": "ipython3",
   "version": "3.10.6"
  }
 },
 "nbformat": 4,
 "nbformat_minor": 5
}
